{
  "cells": [
    {
      "cell_type": "markdown",
      "metadata": {
        "id": "view-in-github",
        "colab_type": "text"
      },
      "source": [
        "<a href=\"https://colab.research.google.com/github/2shar86/Petite_Parth/blob/main/Petite_Parth_Simulator.ipynb\" target=\"_parent\"><img src=\"https://colab.research.google.com/assets/colab-badge.svg\" alt=\"Open In Colab\"/></a>"
      ]
    },
    {
      "cell_type": "code",
      "execution_count": null,
      "metadata": {
        "id": "4xeDiMKlC7TM"
      },
      "outputs": [],
      "source": []
    },
    {
      "cell_type": "markdown",
      "metadata": {
        "id": "c7upX1fjC8if"
      },
      "source": [
        "# Petite Parth Simulator\n",
        "\n",
        "**Instructions:**  \n",
        "1. Run the Petite Parth file in the cell below:  \n"
      ]
    },
    {
      "cell_type": "code",
      "source": [
        "!git clone https://github.com/2shar86/Petite_Parth.git\n",
        "%cd Petite_Parth\n",
        "\n",
        "!pip install gdown\n",
        "!gdown --id 1J-5kVRtXeSt_aNh_Nl95VV8wnSxMPdYO\n",
        "!unzip -q Petite_Parth.zip\n",
        "%cd .\n",
        "\n",
        "https://drive.google.com/file/d/1J-5kVRtXeSt_aNh_Nl95VV8wnSxMPdYO/view?usp=sharing"
      ],
      "metadata": {
        "colab": {
          "base_uri": "https://localhost:8080/"
        },
        "id": "NUmot2ceZIAh",
        "outputId": "d9cc5f02-9335-4c1d-eca3-03e5faa770e1"
      },
      "execution_count": 2,
      "outputs": [
        {
          "output_type": "stream",
          "name": "stdout",
          "text": [
            "Cloning into 'Petite_Parth'...\n",
            "remote: Enumerating objects: 5, done.\u001b[K\n",
            "remote: Counting objects: 100% (5/5), done.\u001b[K\n",
            "remote: Compressing objects: 100% (5/5), done.\u001b[K\n",
            "remote: Total 5 (delta 0), reused 0 (delta 0), pack-reused 0 (from 0)\u001b[K\n",
            "Receiving objects: 100% (5/5), 1.73 MiB | 14.77 MiB/s, done.\n",
            "/content/Petite_Parth\n"
          ]
        }
      ]
    },
    {
      "cell_type": "code",
      "source": [
        "!pip install pillow"
      ],
      "metadata": {
        "id": "FXyYpE4WZ1pa"
      },
      "execution_count": null,
      "outputs": []
    },
    {
      "cell_type": "code",
      "source": [
        "import sys, os\n",
        "from IPython.display import display, Image as ColabImage, Audio\n",
        "# run your script (it will type-print to Colab’s output)\n",
        "!python Petite_Parth_your_personal_PR_assistant.py\n",
        "\n",
        "# finally, explicitly show the image and play the sound in Colab:\n",
        "display(ColabImage(filename=\"cockroach.png\"))\n",
        "display(Audio(\"hawyeah.mp3\", autoplay=True))"
      ],
      "metadata": {
        "id": "CEN1LWl3Z3DJ"
      },
      "execution_count": null,
      "outputs": []
    }
  ],
  "metadata": {
    "colab": {
      "provenance": [],
      "authorship_tag": "ABX9TyPvMxI3m6TOsgRPdZTZwAv6",
      "include_colab_link": true
    },
    "kernelspec": {
      "display_name": "Python 3",
      "name": "python3"
    },
    "language_info": {
      "name": "python"
    }
  },
  "nbformat": 4,
  "nbformat_minor": 0
}